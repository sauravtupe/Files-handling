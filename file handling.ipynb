{
 "cells": [
  {
   "cell_type": "code",
   "execution_count": 1,
   "id": "a891fa34-d5eb-4384-9175-46468bf00d95",
   "metadata": {},
   "outputs": [],
   "source": [
    "# 1. Write a code to read the contents of a file in Python."
   ]
  },
  {
   "cell_type": "code",
   "execution_count": 2,
   "id": "7876c7ce-10da-4ac9-86db-a68b84631d4d",
   "metadata": {},
   "outputs": [
    {
     "name": "stdout",
     "output_type": "stream",
     "text": [
      "File 'example.txt' not found.\n"
     ]
    }
   ],
   "source": [
    "def read_file(filename):\n",
    "    try:\n",
    "        with open(filename, 'r') as file:\n",
    "            contents = file.read()\n",
    "            return contents\n",
    "    except FileNotFoundError:\n",
    "        print(f\"File '{filename}' not found.\")\n",
    "        return None\n",
    "\n",
    "# Example usage:\n",
    "filename = 'example.txt'  # Replace 'example.txt' with the path to your file\n",
    "file_contents = read_file(filename)\n",
    "if file_contents:\n",
    "    print(\"File contents:\")\n",
    "    print(file_contents)\n"
   ]
  },
  {
   "cell_type": "code",
   "execution_count": 3,
   "id": "3796cb6d-3a2e-4d9f-8fb1-5b669b7e9629",
   "metadata": {},
   "outputs": [],
   "source": [
    "# 2.Python. in file a to write to code a Write"
   ]
  },
  {
   "cell_type": "code",
   "execution_count": 4,
   "id": "d2bf0ab5-977a-411f-9906-47a461c1ff20",
   "metadata": {},
   "outputs": [
    {
     "name": "stdout",
     "output_type": "stream",
     "text": [
      "Content successfully written to 'example.txt'.\n"
     ]
    }
   ],
   "source": [
    "def write_to_file(filename, content):\n",
    "    try:\n",
    "        with open(filename, 'w') as file:\n",
    "            file.write(content)\n",
    "        print(f\"Content successfully written to '{filename}'.\")\n",
    "    except Exception as e:\n",
    "        print(f\"An error occurred: {e}\")\n",
    "\n",
    "# Example usage:\n",
    "filename = 'example.txt'  # Replace 'example.txt' with the path to your file\n",
    "content_to_write = \"Python. in file a to write to code a Write\"\n",
    "write_to_file(filename, content_to_write)\n"
   ]
  },
  {
   "cell_type": "code",
   "execution_count": 5,
   "id": "eecdf95e-abdd-4225-acf5-e30babfc53a3",
   "metadata": {},
   "outputs": [],
   "source": [
    "# 3. Write a code to append to a file in Python."
   ]
  },
  {
   "cell_type": "code",
   "execution_count": 6,
   "id": "98e8135d-0cd8-45c0-8c81-227ec20b9471",
   "metadata": {},
   "outputs": [
    {
     "name": "stdout",
     "output_type": "stream",
     "text": [
      "Content successfully appended to 'example.txt'.\n"
     ]
    }
   ],
   "source": [
    "def append_to_file(filename, content):\n",
    "    try:\n",
    "        with open(filename, 'a') as file:\n",
    "            file.write(content)\n",
    "        print(f\"Content successfully appended to '{filename}'.\")\n",
    "    except Exception as e:\n",
    "        print(f\"An error occurred: {e}\")\n",
    "\n",
    "# Example usage:\n",
    "filename = 'example.txt'  # Replace 'example.txt' with the path to your file\n",
    "content_to_append = \"New content to append to the file.\"\n",
    "append_to_file(filename, content_to_append)\n"
   ]
  },
  {
   "cell_type": "code",
   "execution_count": 7,
   "id": "592108fb-83d5-4c39-9290-8ecc539822de",
   "metadata": {},
   "outputs": [],
   "source": [
    "# 4. Write a code to read a binary file in Python."
   ]
  },
  {
   "cell_type": "code",
   "execution_count": 8,
   "id": "b596cb87-e81d-4214-b2ea-20a2f4896790",
   "metadata": {},
   "outputs": [
    {
     "name": "stdout",
     "output_type": "stream",
     "text": [
      "File 'binary_file.bin' not found.\n"
     ]
    }
   ],
   "source": [
    "def read_binary_file(filename):\n",
    "    try:\n",
    "        with open(filename, 'rb') as file:\n",
    "            binary_data = file.read()\n",
    "        return binary_data\n",
    "    except FileNotFoundError:\n",
    "        print(f\"File '{filename}' not found.\")\n",
    "        return None\n",
    "    except Exception as e:\n",
    "        print(f\"An error occurred: {e}\")\n",
    "        return None\n",
    "\n",
    "# Example usage:\n",
    "filename = 'binary_file.bin'  # Replace 'binary_file.bin' with the path to your binary file\n",
    "binary_data = read_binary_file(filename)\n",
    "if binary_data:\n",
    "    print(\"Binary data read successfully.\")\n",
    "    # Do further processing with the binary data as needed\n"
   ]
  },
  {
   "cell_type": "code",
   "execution_count": 9,
   "id": "8cb11fa1-cbbb-4302-b842-39a3e7c9dda4",
   "metadata": {},
   "outputs": [],
   "source": [
    "# 5. What happens if we don't use 'with' keyword with 'open'in python?"
   ]
  },
  {
   "cell_type": "code",
   "execution_count": 10,
   "id": "e93eac13-72af-4868-abcc-c9a73565925f",
   "metadata": {},
   "outputs": [],
   "source": [
    "file = open('example.txt', 'r')\n",
    "content = file.read()\n",
    "# Do something with the content\n",
    "file.close()  # File explicitly closed\n"
   ]
  },
  {
   "cell_type": "code",
   "execution_count": 11,
   "id": "02bcbd70-a36d-4c51-b651-c3378fc3dfdd",
   "metadata": {},
   "outputs": [],
   "source": [
    "# 8. Write a Python function to read a text file using buffered reading and return its contents."
   ]
  },
  {
   "cell_type": "code",
   "execution_count": 12,
   "id": "14b08df5-a3fd-4f9c-b55c-68169cd65fdf",
   "metadata": {},
   "outputs": [
    {
     "name": "stdout",
     "output_type": "stream",
     "text": [
      "File contents:\n",
      "Python. in file a to write to code a WriteNew content to append to the file.\n"
     ]
    }
   ],
   "source": [
    "def read_text_file(filename):\n",
    "    try:\n",
    "        with open(filename, 'r', buffering=4096) as file:\n",
    "            contents = file.read()\n",
    "        return contents\n",
    "    except FileNotFoundError:\n",
    "        print(f\"File '{filename}' not found.\")\n",
    "        return None\n",
    "    except Exception as e:\n",
    "        print(f\"An error occurred: {e}\")\n",
    "        return None\n",
    "\n",
    "# Example usage:\n",
    "filename = 'example.txt'  # Replace 'example.txt' with the path to your text file\n",
    "file_contents = read_text_file(filename)\n",
    "if file_contents:\n",
    "    print(\"File contents:\")\n",
    "    print(file_contents)\n"
   ]
  },
  {
   "cell_type": "code",
   "execution_count": 13,
   "id": "29026084-c2bd-42b9-9092-fbb5ef258b2e",
   "metadata": {},
   "outputs": [],
   "source": [
    "# 10. Write a Python code snippet to append content to a file using buffered writing."
   ]
  },
  {
   "cell_type": "code",
   "execution_count": 15,
   "id": "4730eb31-aa91-43ed-ab3a-de0ead29da12",
   "metadata": {},
   "outputs": [
    {
     "name": "stdout",
     "output_type": "stream",
     "text": [
      "Content successfully appended to 'example.txt'.\n"
     ]
    }
   ],
   "source": [
    "def append_to_file(filename, content):\n",
    "    try:\n",
    "        with open(filename, 'a', buffering=8192) as file:\n",
    "            file.write(content)\n",
    "        print(f\"Content successfully appended to '{filename}'.\")\n",
    "    except Exception as e:\n",
    "        print(f\"An error occurred: {e}\")\n",
    "\n",
    "# Example usage:\n",
    "filename = 'example.txt'  # Replace 'example.txt' with the path to your file\n",
    "content_to_append = \"This is new content to append using buffered writing.\\n\"\n",
    "append_to_file(filename, content_to_append)\n"
   ]
  },
  {
   "cell_type": "code",
   "execution_count": 16,
   "id": "e7ad89a7-95d7-4152-a6d3-4b35714e5c2c",
   "metadata": {},
   "outputs": [],
   "source": [
    "# 11. Write a Python function that demonstrates the use of close() method on a file."
   ]
  },
  {
   "cell_type": "code",
   "execution_count": 17,
   "id": "90d44c6b-bec8-4985-95f4-876a96658189",
   "metadata": {},
   "outputs": [
    {
     "name": "stdout",
     "output_type": "stream",
     "text": [
      "Content successfully written to the file.\n",
      "File closed.\n"
     ]
    }
   ],
   "source": [
    "def write_to_file_and_close(filename, content):\n",
    "    try:\n",
    "        # Open the file for writing\n",
    "        file = open(filename, 'w')\n",
    "\n",
    "        # Write content to the file\n",
    "        file.write(content)\n",
    "        print(\"Content successfully written to the file.\")\n",
    "\n",
    "        # Close the file\n",
    "        file.close()\n",
    "        print(\"File closed.\")\n",
    "    except Exception as e:\n",
    "        print(f\"An error occurred: {e}\")\n",
    "\n",
    "# Example usage:\n",
    "filename = 'example.txt'  # Replace 'example.txt' with the path to your file\n",
    "content_to_write = \"This is some content to write to the file.\"\n",
    "write_to_file_and_close(filename, content_to_write)\n"
   ]
  },
  {
   "cell_type": "code",
   "execution_count": 18,
   "id": "e80c360a-5ebe-4452-956c-6dfc50e68d9d",
   "metadata": {},
   "outputs": [],
   "source": [
    "# 12. Create a Python function to showcase the detach() method on a file object."
   ]
  },
  {
   "cell_type": "code",
   "execution_count": 19,
   "id": "7c85bb9d-1411-475d-bf20-488ddb4462b2",
   "metadata": {},
   "outputs": [
    {
     "name": "stdout",
     "output_type": "stream",
     "text": [
      "Data read from file: This is some content to write to the file.\n",
      "File descriptor detached from file object.\n",
      "Additional data written using the detached file descriptor.\n",
      "Detached file descriptor closed.\n"
     ]
    }
   ],
   "source": [
    "def detach_file_descriptor(filename):\n",
    "    try:\n",
    "        # Open the file for reading and writing\n",
    "        file = open(filename, 'r+')\n",
    "\n",
    "        # Read some data from the file\n",
    "        data = file.read()\n",
    "        print(\"Data read from file:\", data)\n",
    "\n",
    "        # Detach the file descriptor from the file object\n",
    "        fd = file.detach()\n",
    "        print(\"File descriptor detached from file object.\")\n",
    "\n",
    "        # Now, the file object doesn't have an associated file descriptor\n",
    "        # We can continue working with the file descriptor 'fd'\n",
    "\n",
    "        # Example: Writing to the detached file descriptor\n",
    "        fd.write(b\"Additional data written using the detached file descriptor.\\n\")\n",
    "        print(\"Additional data written using the detached file descriptor.\")\n",
    "\n",
    "        # Close the detached file descriptor\n",
    "        fd.close()\n",
    "        print(\"Detached file descriptor closed.\")\n",
    "    except Exception as e:\n",
    "        print(f\"An error occurred: {e}\")\n",
    "\n",
    "# Example usage:\n",
    "filename = 'example.txt'  # Replace 'example.txt' with the path to your file\n",
    "detach_file_descriptor(filename)\n"
   ]
  },
  {
   "cell_type": "code",
   "execution_count": 20,
   "id": "77d8a7bf-767e-4cb7-9acb-e49a644c43d9",
   "metadata": {},
   "outputs": [],
   "source": [
    "# 13. Write a Python function to demonstrate the use of the seek() method to change the file position."
   ]
  },
  {
   "cell_type": "code",
   "execution_count": 21,
   "id": "ce5c2dea-84db-4621-96f0-3e9cd3e2fbc4",
   "metadata": {},
   "outputs": [
    {
     "name": "stdout",
     "output_type": "stream",
     "text": [
      "Initial data read from file: This is some content to write to the file.Additional data written using the detached file descriptor.\n",
      "\n",
      "Data read from new file position: me content to write to the file.Additional data written using the detached file descriptor.\n",
      "\n"
     ]
    }
   ],
   "source": [
    "def seek_file_position(filename, position):\n",
    "    try:\n",
    "        # Open the file for reading\n",
    "        with open(filename, 'r') as file:\n",
    "            # Read some initial data from the file\n",
    "            initial_data = file.read()\n",
    "            print(\"Initial data read from file:\", initial_data)\n",
    "\n",
    "            # Move the file position to the specified position\n",
    "            file.seek(position)\n",
    "\n",
    "            # Read data from the new file position\n",
    "            new_data = file.read()\n",
    "            print(\"Data read from new file position:\", new_data)\n",
    "    except Exception as e:\n",
    "        print(f\"An error occurred: {e}\")\n",
    "\n",
    "# Example usage:\n",
    "filename = 'example.txt'  # Replace 'example.txt' with the path to your file\n",
    "position = 10  # Replace with the desired position in the file\n",
    "seek_file_position(filename, position)\n"
   ]
  },
  {
   "cell_type": "code",
   "execution_count": 22,
   "id": "6c4cefe0-0edc-4b3b-88e4-b9e5a4d1b549",
   "metadata": {},
   "outputs": [],
   "source": [
    "# 14. Create a Python function to return the file descriptor (integer number) of a file using the fileno() method."
   ]
  },
  {
   "cell_type": "code",
   "execution_count": 23,
   "id": "0bec759c-73ca-466a-b416-9b77bcabf100",
   "metadata": {},
   "outputs": [
    {
     "name": "stdout",
     "output_type": "stream",
     "text": [
      "File descriptor of 'example.txt': 57\n"
     ]
    }
   ],
   "source": [
    "def get_file_descriptor(filename):\n",
    "    try:\n",
    "        # Open the file for reading\n",
    "        with open(filename, 'r') as file:\n",
    "            # Get the file descriptor using the fileno() method\n",
    "            fd = file.fileno()\n",
    "            print(f\"File descriptor of '{filename}': {fd}\")\n",
    "            return fd\n",
    "    except Exception as e:\n",
    "        print(f\"An error occurred: {e}\")\n",
    "        return None\n",
    "\n",
    "# Example usage:\n",
    "filename = 'example.txt'  # Replace 'example.txt' with the path to your file\n",
    "file_descriptor = get_file_descriptor(filename)\n"
   ]
  },
  {
   "cell_type": "code",
   "execution_count": 24,
   "id": "3cda6441-2795-4350-a052-1205e661d406",
   "metadata": {},
   "outputs": [],
   "source": [
    "# 15. Write a Python function to return the current position of the file's object using the tell() method."
   ]
  },
  {
   "cell_type": "code",
   "execution_count": 25,
   "id": "03819db2-b7bf-4620-8630-118de9c79c01",
   "metadata": {},
   "outputs": [
    {
     "name": "stdout",
     "output_type": "stream",
     "text": [
      "Current position of the file's object in 'example.txt': 0\n"
     ]
    }
   ],
   "source": [
    "def get_file_position(filename):\n",
    "    try:\n",
    "        # Open the file for reading\n",
    "        with open(filename, 'r') as file:\n",
    "            # Get the current position of the file's object using the tell() method\n",
    "            position = file.tell()\n",
    "            print(f\"Current position of the file's object in '{filename}': {position}\")\n",
    "            return position\n",
    "    except Exception as e:\n",
    "        print(f\"An error occurred: {e}\")\n",
    "        return None\n",
    "\n",
    "# Example usage:\n",
    "filename = 'example.txt'  # Replace 'example.txt' with the path to your file\n",
    "file_position = get_file_position(filename)\n"
   ]
  },
  {
   "cell_type": "code",
   "execution_count": 26,
   "id": "a9b9b704-205b-465e-a832-333b623b25c3",
   "metadata": {},
   "outputs": [],
   "source": [
    "# 16. Create a Python program that logs a message to a file using the logging module."
   ]
  },
  {
   "cell_type": "code",
   "execution_count": 27,
   "id": "72dbf034-f4a2-44fd-b1c8-3be9bfaadba6",
   "metadata": {},
   "outputs": [
    {
     "name": "stdout",
     "output_type": "stream",
     "text": [
      "Message logged successfully.\n"
     ]
    }
   ],
   "source": [
    "import logging\n",
    "\n",
    "def setup_logging(filename):\n",
    "    # Configure logging to write messages to the specified file\n",
    "    logging.basicConfig(filename=filename, level=logging.INFO, format='%(asctime)s - %(levelname)s - %(message)s')\n",
    "\n",
    "def log_message(message):\n",
    "    # Log the provided message\n",
    "    logging.info(message)\n",
    "    print(\"Message logged successfully.\")\n",
    "\n",
    "# Example usage:\n",
    "filename = 'example.log'  # Replace 'example.log' with the name of the log file\n",
    "setup_logging(filename)\n",
    "message_to_log = \"This is a sample log message.\"\n",
    "log_message(message_to_log)\n"
   ]
  },
  {
   "cell_type": "code",
   "execution_count": 28,
   "id": "a0b8d35a-6e9f-4bde-8eba-5f7c07826b42",
   "metadata": {},
   "outputs": [],
   "source": [
    "# 18. Create a Python program that uses the debugger to find the value of a variable inside a loop."
   ]
  },
  {
   "cell_type": "code",
   "execution_count": null,
   "id": "f3b2b1ff-aacf-485d-821c-de693d1edbf1",
   "metadata": {},
   "outputs": [],
   "source": [
    "\n",
    "import pdb\n",
    "\n",
    "def main():\n",
    "    # Define a list of numbers\n",
    "    numbers = [1, 2, 3, 4, 5]\n",
    "\n",
    "    # Start debugging\n",
    "    pdb.set_trace()\n",
    "\n",
    "    # Iterate through the list and print each number\n",
    "    for num in numbers:\n",
    "        result = num * 2\n",
    "        print(f\"The result of doubling {num} is: {result}\")\n",
    "\n",
    "if __name__ == \"__main__\":\n",
    "    main()\n"
   ]
  },
  {
   "cell_type": "code",
   "execution_count": null,
   "id": "f855bf70-ccf1-4e94-8752-b6a3a399ec6f",
   "metadata": {},
   "outputs": [],
   "source": [
    "# 19. Create a Python program that demonstrates setting breakpoints and inspecting variables using the debugger"
   ]
  },
  {
   "cell_type": "code",
   "execution_count": null,
   "id": "350abf1c-ad44-4262-8caf-4fb29ff05b68",
   "metadata": {},
   "outputs": [
    {
     "name": "stdout",
     "output_type": "stream",
     "text": [
      "> \u001b[0;32m/tmp/ipykernel_1894/1317770794.py\u001b[0m(11)\u001b[0;36mmain\u001b[0;34m()\u001b[0m\n",
      "\u001b[0;32m      9 \u001b[0;31m\u001b[0;34m\u001b[0m\u001b[0m\n",
      "\u001b[0m\u001b[0;32m     10 \u001b[0;31m    \u001b[0;31m# Iterate through the list and print each number\u001b[0m\u001b[0;34m\u001b[0m\u001b[0;34m\u001b[0m\u001b[0m\n",
      "\u001b[0m\u001b[0;32m---> 11 \u001b[0;31m    \u001b[0;32mfor\u001b[0m \u001b[0mnum\u001b[0m \u001b[0;32min\u001b[0m \u001b[0mnumbers\u001b[0m\u001b[0;34m:\u001b[0m\u001b[0;34m\u001b[0m\u001b[0;34m\u001b[0m\u001b[0m\n",
      "\u001b[0m\u001b[0;32m     12 \u001b[0;31m        \u001b[0mresult\u001b[0m \u001b[0;34m=\u001b[0m \u001b[0mnum\u001b[0m \u001b[0;34m*\u001b[0m \u001b[0;36m2\u001b[0m\u001b[0;34m\u001b[0m\u001b[0;34m\u001b[0m\u001b[0m\n",
      "\u001b[0m\u001b[0;32m     13 \u001b[0;31m        \u001b[0mprint\u001b[0m\u001b[0;34m(\u001b[0m\u001b[0;34mf\"The result of doubling {num} is: {result}\"\u001b[0m\u001b[0;34m)\u001b[0m\u001b[0;34m\u001b[0m\u001b[0;34m\u001b[0m\u001b[0m\n",
      "\u001b[0m\n"
     ]
    },
    {
     "name": "stdin",
     "output_type": "stream",
     "text": [
      "ipdb>  1\n"
     ]
    },
    {
     "name": "stdout",
     "output_type": "stream",
     "text": [
      "1\n"
     ]
    },
    {
     "name": "stdin",
     "output_type": "stream",
     "text": [
      "ipdb>  2\n"
     ]
    },
    {
     "name": "stdout",
     "output_type": "stream",
     "text": [
      "2\n"
     ]
    },
    {
     "name": "stdin",
     "output_type": "stream",
     "text": [
      "ipdb>  3\n"
     ]
    },
    {
     "name": "stdout",
     "output_type": "stream",
     "text": [
      "3\n"
     ]
    }
   ],
   "source": [
    "import pdb\n",
    "\n",
    "def main():\n",
    "    # Define a list of numbers\n",
    "    numbers = [1, 2, 3, 4, 5]\n",
    "\n",
    "    # Start debugging\n",
    "    pdb.set_trace()\n",
    "\n",
    "    # Iterate through the list and print each number\n",
    "    for num in numbers:\n",
    "        result = num * 2\n",
    "        print(f\"The result of doubling {num} is: {result}\")\n",
    "\n",
    "if __name__ == \"__main__\":\n",
    "    main()\n"
   ]
  },
  {
   "cell_type": "code",
   "execution_count": null,
   "id": "10b47123-6517-4c10-8c42-742a31b3aa7c",
   "metadata": {},
   "outputs": [],
   "source": [
    "# 20. Create a Python program that uses the debugger to trace a recursive function."
   ]
  },
  {
   "cell_type": "code",
   "execution_count": null,
   "id": "b6ea82ee-9a2f-48cd-8bfd-2157dca88b63",
   "metadata": {},
   "outputs": [
    {
     "name": "stdout",
     "output_type": "stream",
     "text": [
      "> \u001b[0;32m/tmp/ipykernel_1981/2149306394.py\u001b[0m(7)\u001b[0;36mfactorial\u001b[0;34m()\u001b[0m\n",
      "\u001b[0;32m      5 \u001b[0;31m    \u001b[0mpdb\u001b[0m\u001b[0;34m.\u001b[0m\u001b[0mset_trace\u001b[0m\u001b[0;34m(\u001b[0m\u001b[0;34m)\u001b[0m\u001b[0;34m\u001b[0m\u001b[0;34m\u001b[0m\u001b[0m\n",
      "\u001b[0m\u001b[0;32m      6 \u001b[0;31m\u001b[0;34m\u001b[0m\u001b[0m\n",
      "\u001b[0m\u001b[0;32m----> 7 \u001b[0;31m    \u001b[0;32mif\u001b[0m \u001b[0mn\u001b[0m \u001b[0;34m==\u001b[0m \u001b[0;36m0\u001b[0m\u001b[0;34m:\u001b[0m\u001b[0;34m\u001b[0m\u001b[0;34m\u001b[0m\u001b[0m\n",
      "\u001b[0m\u001b[0;32m      8 \u001b[0;31m        \u001b[0;32mreturn\u001b[0m \u001b[0;36m1\u001b[0m\u001b[0;34m\u001b[0m\u001b[0;34m\u001b[0m\u001b[0m\n",
      "\u001b[0m\u001b[0;32m      9 \u001b[0;31m    \u001b[0;32melse\u001b[0m\u001b[0;34m:\u001b[0m\u001b[0;34m\u001b[0m\u001b[0;34m\u001b[0m\u001b[0m\n",
      "\u001b[0m\n"
     ]
    },
    {
     "name": "stdin",
     "output_type": "stream",
     "text": [
      "ipdb>  2\n"
     ]
    },
    {
     "name": "stdout",
     "output_type": "stream",
     "text": [
      "2\n",
      "--KeyboardInterrupt--\n",
      "\n",
      "KeyboardInterrupt: Interrupted by user\n",
      "> \u001b[0;32m/tmp/ipykernel_1981/2149306394.py\u001b[0m(7)\u001b[0;36mfactorial\u001b[0;34m()\u001b[0m\n",
      "\u001b[0;32m      5 \u001b[0;31m    \u001b[0mpdb\u001b[0m\u001b[0;34m.\u001b[0m\u001b[0mset_trace\u001b[0m\u001b[0;34m(\u001b[0m\u001b[0;34m)\u001b[0m\u001b[0;34m\u001b[0m\u001b[0;34m\u001b[0m\u001b[0m\n",
      "\u001b[0m\u001b[0;32m      6 \u001b[0;31m\u001b[0;34m\u001b[0m\u001b[0m\n",
      "\u001b[0m\u001b[0;32m----> 7 \u001b[0;31m    \u001b[0;32mif\u001b[0m \u001b[0mn\u001b[0m \u001b[0;34m==\u001b[0m \u001b[0;36m0\u001b[0m\u001b[0;34m:\u001b[0m\u001b[0;34m\u001b[0m\u001b[0;34m\u001b[0m\u001b[0m\n",
      "\u001b[0m\u001b[0;32m      8 \u001b[0;31m        \u001b[0;32mreturn\u001b[0m \u001b[0;36m1\u001b[0m\u001b[0;34m\u001b[0m\u001b[0;34m\u001b[0m\u001b[0m\n",
      "\u001b[0m\u001b[0;32m      9 \u001b[0;31m    \u001b[0;32melse\u001b[0m\u001b[0;34m:\u001b[0m\u001b[0;34m\u001b[0m\u001b[0;34m\u001b[0m\u001b[0m\n",
      "\u001b[0m\n"
     ]
    }
   ],
   "source": [
    "import pdb\n",
    "\n",
    "def factorial(n):\n",
    "    # Start debugging\n",
    "    pdb.set_trace()\n",
    "\n",
    "    if n == 0:\n",
    "        return 1\n",
    "    else:\n",
    "        return n * factorial(n - 1)\n",
    "\n",
    "def main():\n",
    "    result = factorial(5)\n",
    "    print(\"Factorial:\", result)\n",
    "\n",
    "if __name__ == \"__main__\":\n",
    "    main()\n"
   ]
  },
  {
   "cell_type": "code",
   "execution_count": null,
   "id": "3fe7ee54-6d5c-439e-906c-36d766ebbf9a",
   "metadata": {},
   "outputs": [],
   "source": [
    "# 21. Write a try-except block to handle a ZeroDivisionError."
   ]
  },
  {
   "cell_type": "code",
   "execution_count": 1,
   "id": "5c58ec8a-c50e-44ff-9b36-7701ca729348",
   "metadata": {},
   "outputs": [
    {
     "name": "stdout",
     "output_type": "stream",
     "text": [
      "Error: Division by zero!\n"
     ]
    }
   ],
   "source": [
    "try:\n",
    "    result = 10 / 0  # Attempting division by zero\n",
    "except ZeroDivisionError:\n",
    "    print(\"Error: Division by zero!\")\n"
   ]
  },
  {
   "cell_type": "code",
   "execution_count": 2,
   "id": "c21964aa-6792-40f2-bacb-64d5ec6aab0b",
   "metadata": {},
   "outputs": [],
   "source": [
    "# 22. How does the else block work with try-except?"
   ]
  },
  {
   "cell_type": "code",
   "execution_count": 3,
   "id": "4351a054-92a0-41fd-b557-ea6e5bd94aec",
   "metadata": {},
   "outputs": [
    {
     "name": "stdout",
     "output_type": "stream",
     "text": [
      "Division was successful. Result: 5.0\n"
     ]
    }
   ],
   "source": [
    "try:\n",
    "    # Code that may raise an exception\n",
    "    result = 10 / 2\n",
    "except ZeroDivisionError:\n",
    "    print(\"Error: Division by zero!\")\n",
    "else:\n",
    "    # Code to be executed if no exceptions occur\n",
    "    print(\"Division was successful. Result:\", result)\n"
   ]
  },
  {
   "cell_type": "code",
   "execution_count": 4,
   "id": "6fc787cb-487a-4a26-97f6-7da55a10b15c",
   "metadata": {},
   "outputs": [],
   "source": [
    "# 23. Implement a try-except-else block to open and read a file."
   ]
  },
  {
   "cell_type": "code",
   "execution_count": 5,
   "id": "e73f47f4-a412-493d-be22-9a6dd88a34ca",
   "metadata": {},
   "outputs": [
    {
     "name": "stdout",
     "output_type": "stream",
     "text": [
      "File contents:\n",
      "This is some content to write to the file.Additional data written using the detached file descriptor.\n",
      "\n"
     ]
    }
   ],
   "source": [
    "try:\n",
    "    # Attempt to open the file\n",
    "    with open('example.txt', 'r') as file:\n",
    "        # Read the contents of the file\n",
    "        file_contents = file.read()\n",
    "except FileNotFoundError:\n",
    "    print(\"Error: File not found!\")\n",
    "except Exception as e:\n",
    "    print(f\"An error occurred: {e}\")\n",
    "else:\n",
    "    # Code to be executed if no exceptions occur\n",
    "    print(\"File contents:\")\n",
    "    print(file_contents)\n"
   ]
  },
  {
   "cell_type": "code",
   "execution_count": 6,
   "id": "022a8ae3-4222-4600-a1d6-74dedc403a7f",
   "metadata": {},
   "outputs": [],
   "source": [
    "# 25. Write a try-except-finally block to handle a ValueError."
   ]
  },
  {
   "cell_type": "code",
   "execution_count": 7,
   "id": "4cf51ab6-fde4-4bf6-8dab-0db427211a98",
   "metadata": {},
   "outputs": [
    {
     "name": "stdout",
     "output_type": "stream",
     "text": [
      "Error: Unable to convert the string to an integer!\n",
      "Finally block executed.\n"
     ]
    }
   ],
   "source": [
    "try:\n",
    "    # Attempt to convert a string to an integer\n",
    "    number = int(\"abc\")\n",
    "except ValueError:\n",
    "    print(\"Error: Unable to convert the string to an integer!\")\n",
    "finally:\n",
    "    print(\"Finally block executed.\")\n"
   ]
  },
  {
   "cell_type": "code",
   "execution_count": 8,
   "id": "02d7c8e4-2e70-4dca-8479-17e9c273e656",
   "metadata": {},
   "outputs": [],
   "source": [
    "# 26. How multiple except blocks work in Python?"
   ]
  },
  {
   "cell_type": "code",
   "execution_count": 9,
   "id": "bb7fe55f-3bc8-4571-9d3a-64f4215bf593",
   "metadata": {},
   "outputs": [
    {
     "name": "stdout",
     "output_type": "stream",
     "text": [
      "ZeroDivisionError occurred!\n"
     ]
    }
   ],
   "source": [
    "try:\n",
    "    # Code that may raise exceptions\n",
    "    result = 10 / 0  # Attempting division by zero\n",
    "except ValueError:\n",
    "    # Handle ValueError exceptions\n",
    "    print(\"ValueError occurred!\")\n",
    "except ZeroDivisionError:\n",
    "    # Handle ZeroDivisionError exceptions\n",
    "    print(\"ZeroDivisionError occurred!\")\n",
    "except Exception as e:\n",
    "    # Handle any other exceptions\n",
    "    print(\"An error occurred:\", e)\n"
   ]
  },
  {
   "cell_type": "code",
   "execution_count": 10,
   "id": "5e51c5f3-0b5d-4de0-9ef2-7f6f30adf712",
   "metadata": {},
   "outputs": [],
   "source": [
    "# 27. What is a custom exception in Python?"
   ]
  },
  {
   "cell_type": "code",
   "execution_count": 13,
   "id": "2b2b8b67-4909-4379-8c16-c237d2eaff4b",
   "metadata": {},
   "outputs": [
    {
     "name": "stdout",
     "output_type": "stream",
     "text": [
      "Custom error caught: An error occurred in some_function.\n"
     ]
    }
   ],
   "source": [
    "def some_function():\n",
    "    # Some logic that may raise a custom exception\n",
    "    raise CustomError(\"An error occurred in some_function.\")\n",
    "\n",
    "try:\n",
    "    some_function()\n",
    "except CustomError as e:\n",
    "    print(\"Custom error caught:\", e)\n",
    "\n"
   ]
  },
  {
   "cell_type": "code",
   "execution_count": null,
   "id": "c471b35f-b720-49b0-aaf4-d912e0804f67",
   "metadata": {},
   "outputs": [],
   "source": [
    "# 28. Create a custom exception class with a message."
   ]
  },
  {
   "cell_type": "code",
   "execution_count": 14,
   "id": "655202b4-f189-44b2-b97f-ccf152494f75",
   "metadata": {},
   "outputs": [
    {
     "name": "stdout",
     "output_type": "stream",
     "text": [
      "Custom error caught: This is a custom error message.\n"
     ]
    }
   ],
   "source": [
    "class CustomError(Exception):\n",
    "    \"\"\"Custom exception class with a message.\"\"\"\n",
    "    \n",
    "    def __init__(self, message):\n",
    "        super().__init__(message)\n",
    "        self.message = message\n",
    "\n",
    "# Example usage:\n",
    "try:\n",
    "    raise CustomError(\"This is a custom error message.\")\n",
    "except CustomError as e:\n",
    "    print(\"Custom error caught:\", e.message)\n"
   ]
  },
  {
   "cell_type": "code",
   "execution_count": 15,
   "id": "08f82829-8b4f-47a5-8e22-bbbc83d147b2",
   "metadata": {},
   "outputs": [],
   "source": [
    "# 29. Write a code to raise a custom exception in Python."
   ]
  },
  {
   "cell_type": "code",
   "execution_count": 16,
   "id": "479c7457-4b13-4253-9086-0aca1910dfa1",
   "metadata": {},
   "outputs": [
    {
     "name": "stdout",
     "output_type": "stream",
     "text": [
      "Custom error caught: Value cannot be negative.\n"
     ]
    }
   ],
   "source": [
    "class CustomError(Exception):\n",
    "    \"\"\"Custom exception class with a message.\"\"\"\n",
    "    \n",
    "    def __init__(self, message):\n",
    "        super().__init__(message)\n",
    "        self.message = message\n",
    "\n",
    "def some_function(value):\n",
    "    if value < 0:\n",
    "        raise CustomError(\"Value cannot be negative.\")\n",
    "\n",
    "# Example usage:\n",
    "try:\n",
    "    value = -5\n",
    "    some_function(value)\n",
    "except CustomError as e:\n",
    "    print(\"Custom error caught:\", e.message)\n"
   ]
  },
  {
   "cell_type": "code",
   "execution_count": 17,
   "id": "7a9099eb-c118-4551-895d-21bc711f8530",
   "metadata": {},
   "outputs": [],
   "source": [
    "# 30. Write a function that raises a custom exception when a value is negative."
   ]
  },
  {
   "cell_type": "code",
   "execution_count": 18,
   "id": "336c73b1-998f-4805-808d-230e16f9c262",
   "metadata": {},
   "outputs": [
    {
     "name": "stdout",
     "output_type": "stream",
     "text": [
      "Value is positive.\n",
      "Custom error caught: Negative value encountered: -3\n"
     ]
    }
   ],
   "source": [
    "class NegativeValueError(Exception):\n",
    "    \"\"\"Custom exception class for negative values.\"\"\"\n",
    "    \n",
    "    def __init__(self, value):\n",
    "        super().__init__(f\"Negative value encountered: {value}\")\n",
    "        self.value = value\n",
    "\n",
    "def check_positive(value):\n",
    "    \"\"\"Function to check if a value is positive.\"\"\"\n",
    "    if value < 0:\n",
    "        raise NegativeValueError(value)\n",
    "    else:\n",
    "        print(\"Value is positive.\")\n",
    "\n",
    "# Example usage:\n",
    "try:\n",
    "    check_positive(5)\n",
    "    check_positive(-3)\n",
    "except NegativeValueError as e:\n",
    "    print(\"Custom error caught:\", e)\n"
   ]
  },
  {
   "cell_type": "code",
   "execution_count": 20,
   "id": "456a189b-1849-404b-a913-cca6295692b1",
   "metadata": {},
   "outputs": [],
   "source": [
    "# 34. Create a thread in Python."
   ]
  },
  {
   "cell_type": "code",
   "execution_count": 21,
   "id": "111ebb30-38a3-4b2e-90ce-4b5e5c19e00f",
   "metadata": {},
   "outputs": [
    {
     "name": "stdout",
     "output_type": "stream",
     "text": [
      "1\n",
      "2\n",
      "3\n",
      "4\n",
      "5\n",
      "Main thread continues execution...\n"
     ]
    }
   ],
   "source": [
    "import threading\n",
    "\n",
    "def print_numbers():\n",
    "    \"\"\"Function to print numbers from 1 to 5.\"\"\"\n",
    "    for i in range(1, 6):\n",
    "        print(i)\n",
    "\n",
    "# Create a thread\n",
    "thread = threading.Thread(target=print_numbers)\n",
    "\n",
    "# Start the thread\n",
    "thread.start()\n",
    "\n",
    "# Wait for the thread to complete (optional)\n",
    "# thread.join()\n",
    "\n",
    "print(\"Main thread continues execution...\")\n"
   ]
  },
  {
   "cell_type": "code",
   "execution_count": 22,
   "id": "38bb8077-f331-4cc7-8989-2109b3f2de49",
   "metadata": {},
   "outputs": [],
   "source": [
    "# 36. Implement a simple multithreading example in Python."
   ]
  },
  {
   "cell_type": "code",
   "execution_count": 23,
   "id": "a766d476-942f-4c31-b9b9-e5bb29468025",
   "metadata": {},
   "outputs": [
    {
     "name": "stdout",
     "output_type": "stream",
     "text": [
      "Thread Thread-1: 1\n",
      "Thread Thread-2: 1\n",
      "Thread Thread-3: 1\n",
      "Thread Thread-1: 2Thread Thread-2: 2\n",
      "\n",
      "Thread Thread-3: 2\n",
      "Thread Thread-2: 3\n",
      "Thread Thread-1: 3\n",
      "Thread Thread-3: 3\n",
      "Thread Thread-2: 4\n",
      "Thread Thread-3: 4\n",
      "Thread Thread-1: 4\n",
      "Thread Thread-2: 5\n",
      "Thread Thread-3: 5\n",
      "Thread Thread-1: 5\n",
      "All threads have finished execution.\n"
     ]
    }
   ],
   "source": [
    "import threading\n",
    "import time\n",
    "\n",
    "def print_numbers():\n",
    "    \"\"\"Function to print numbers from 1 to 5.\"\"\"\n",
    "    for i in range(1, 6):\n",
    "        print(f\"Thread {threading.current_thread().name}: {i}\")\n",
    "        time.sleep(1)\n",
    "\n",
    "# Create multiple threads\n",
    "threads = []\n",
    "for i in range(3):\n",
    "    thread = threading.Thread(target=print_numbers, name=f\"Thread-{i+1}\")\n",
    "    threads.append(thread)\n",
    "\n",
    "# Start the threads\n",
    "for thread in threads:\n",
    "    thread.start()\n",
    "\n",
    "# Wait for all threads to complete\n",
    "for thread in threads:\n",
    "    thread.join()\n",
    "\n",
    "print(\"All threads have finished execution.\")\n"
   ]
  },
  {
   "cell_type": "code",
   "execution_count": 25,
   "id": "735152cf-7cb2-428f-86fd-c1b3e7dfa4bc",
   "metadata": {},
   "outputs": [],
   "source": [
    "# 41. Create a process using the multiprocessing module in Python."
   ]
  },
  {
   "cell_type": "code",
   "execution_count": 26,
   "id": "3d0983b3-f47d-4da4-bd51-ed1be3651edd",
   "metadata": {},
   "outputs": [
    {
     "name": "stdout",
     "output_type": "stream",
     "text": [
      "Child process ID: 2850\n",
      "Main process continues execution.\n"
     ]
    }
   ],
   "source": [
    "import multiprocessing\n",
    "import os\n",
    "\n",
    "def worker_function():\n",
    "    \"\"\"Function to be executed by the child process.\"\"\"\n",
    "    process_id = os.getpid()\n",
    "    print(f\"Child process ID: {process_id}\")\n",
    "\n",
    "if __name__ == \"__main__\":\n",
    "    # Create a process\n",
    "    process = multiprocessing.Process(target=worker_function)\n",
    "\n",
    "    # Start the process\n",
    "    process.start()\n",
    "\n",
    "    # Wait for the process to finish\n",
    "    process.join()\n",
    "\n",
    "    print(\"Main process continues execution.\")\n"
   ]
  },
  {
   "cell_type": "code",
   "execution_count": null,
   "id": "f2ce756e-4a09-4416-b917-3c195d23d43e",
   "metadata": {},
   "outputs": [],
   "source": []
  }
 ],
 "metadata": {
  "kernelspec": {
   "display_name": "Python 3 (ipykernel)",
   "language": "python",
   "name": "python3"
  },
  "language_info": {
   "codemirror_mode": {
    "name": "ipython",
    "version": 3
   },
   "file_extension": ".py",
   "mimetype": "text/x-python",
   "name": "python",
   "nbconvert_exporter": "python",
   "pygments_lexer": "ipython3",
   "version": "3.10.8"
  }
 },
 "nbformat": 4,
 "nbformat_minor": 5
}
